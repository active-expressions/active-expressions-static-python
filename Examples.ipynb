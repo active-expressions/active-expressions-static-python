{
 "cells": [
  {
   "cell_type": "markdown",
   "metadata": {},
   "source": [
    "# Active Expressions Examples"
   ]
  },
  {
   "cell_type": "code",
   "execution_count": 38,
   "metadata": {},
   "outputs": [],
   "source": [
    "from aexpr import aexpr"
   ]
  },
  {
   "cell_type": "markdown",
   "metadata": {},
   "source": [
    "## Example 1: Bank Account"
   ]
  },
  {
   "cell_type": "code",
   "execution_count": 4,
   "metadata": {},
   "outputs": [
    {
     "name": "stdout",
     "output_type": "stream",
     "text": [
      "0\n",
      "Balance changed to 5\n",
      "Balance changed to 15\n",
      "Balance changed to -5\n",
      "Balance changed to 0\n",
      "Balance changed to 10\n",
      "10\n"
     ]
    }
   ],
   "source": [
    "class BankAccount:\n",
    "    def __init__(self):\n",
    "        self.balance = 0\n",
    "        \n",
    "        def balancechanged(observable, old_value, new_value):\n",
    "            print(\"Balance changed to \"+str(new_value))\n",
    "            if self.balance < 0:\n",
    "                self.balance = 0\n",
    "        aexpr.aexpr(lambda: self.balance, globals(), locals()).on_change(balancechanged)\n",
    "        \n",
    "    def withdraw(self, amount):\n",
    "        self.balance -= amount\n",
    "    \n",
    "    def deposit(self, amount):\n",
    "        self.balance += amount\n",
    "\n",
    "account = BankAccount()\n",
    "print(account.balance)\n",
    "account.deposit(5)\n",
    "account.deposit(10)\n",
    "account.withdraw(20)\n",
    "account.deposit(10)\n",
    "print(account.balance)"
   ]
  },
  {
   "cell_type": "markdown",
   "metadata": {},
   "source": [
    "## Example 2: Aspect Ratio"
   ]
  },
  {
   "cell_type": "code",
   "execution_count": 5,
   "metadata": {},
   "outputs": [
    {
     "name": "stdout",
     "output_type": "stream",
     "text": [
      "1.7777777777777777\n",
      "Ratio changed to 1.1851851851851851\n",
      "Ratio changed to 1.7777777777777777\n",
      "1.7777777777777777\n"
     ]
    }
   ],
   "source": [
    "class Point:\n",
    "    def __init__(self, x, y):\n",
    "        self.x = x\n",
    "        self.y = y\n",
    "\n",
    "class Rect:\n",
    "    def __init__(self, point1, point2):\n",
    "        self.point1 = point1\n",
    "        self.point2 = point2\n",
    "    \n",
    "    def aspect_ratio(self):\n",
    "        return (self.point2.x - self.point1.x) / (self.point2.y - self.point1.y)\n",
    "    \n",
    "point1 = Point(0,0)\n",
    "point2 = Point(1920,1080)\n",
    "rect = Rect(point1, point2)\n",
    "\n",
    "aexpr.aexpr(lambda: rect.aspect_ratio(), globals()).on_change(lambda obs, old_val, new_val: print(\"Ratio changed to \" + str(new_val)))\n",
    "\n",
    "print(rect.aspect_ratio())\n",
    "point2.x = 1280\n",
    "point2.y = 720\n",
    "print(rect.aspect_ratio())"
   ]
  },
  {
   "cell_type": "markdown",
   "metadata": {},
   "source": [
    "## Example 3: Presentation Example"
   ]
  },
  {
   "cell_type": "code",
   "execution_count": 7,
   "metadata": {},
   "outputs": [
    {
     "name": "stdout",
     "output_type": "stream",
     "text": [
      "Changed from: 15 to: 14\n",
      "Changed from: 14 to: 16\n"
     ]
    }
   ],
   "source": [
    "class Example:\n",
    "    def __init__(self):\n",
    "        self.f = 5\n",
    "        self.g = 10\n",
    "        \n",
    "    def method(self):\n",
    "        t = self.f + 2\n",
    "        return t + self.get_g()\n",
    "    \n",
    "    def get_g(self):\n",
    "        return self.g\n",
    "\n",
    "tmp = Example()\n",
    "tmp.f = 3\n",
    "aexpr.aexpr(lambda: tmp.method(), globals()).on_change(lambda obs, old_val, new_val: print(\"Changed from: \" + str(old_val) +\" to: \"+str(new_val)))\n",
    "tmp.f = 2\n",
    "tmp.f = 4\n",
    "tmp.f = 4 # No change will be triggered"
   ]
  },
  {
   "cell_type": "markdown",
   "metadata": {},
   "source": [
    "## Example 4: Feature Tests"
   ]
  },
  {
   "cell_type": "code",
   "execution_count": 36,
   "metadata": {},
   "outputs": [
    {
     "name": "stdout",
     "output_type": "stream",
     "text": [
      "5\n",
      "First Experiment:\n",
      "1 Setting to 10\n",
      "Second Experiment:\n",
      "1 Setting to 11\n",
      "Third Experiment:\n",
      "1 Setting to 12\n",
      "3 Setting to 12\n",
      "Fourth Experiment:\n",
      "1 Setting to 13\n",
      "4 Setting to 113\n",
      "3 Setting to 13\n",
      "4 Setting to 114\n",
      "Fifth Experiment:\n",
      "1 Setting to 14\n",
      "4 Setting to 115\n",
      "3 Setting to 14\n",
      "5 Setting to 1414\n",
      "4 Setting to 116\n",
      "5 Setting to 1428\n",
      "Sixth Experiment:\n",
      "4 Setting to 117\n",
      "6 Setting to Hello Welt15\n",
      "1 Setting to 15\n",
      "3 Setting to 15\n",
      "5 Setting to 1530\n",
      "4 Setting to 118\n",
      "5 Setting to 1545\n",
      "Seventh Experiment:\n",
      "4 Setting to 119\n",
      "6 Setting to Hello Welt16\n",
      "1 Setting to 16\n",
      "3 Setting to 16\n",
      "5 Setting to 1648\n",
      "4 Setting to 120\n",
      "7 Setting to 104\n",
      "5 Setting to 1664\n",
      "Eigth Experiment:\n",
      "4 Setting to 121\n",
      "6 Setting to Hello Welt17\n",
      "1 Setting to 17\n",
      "3 Setting to 17\n",
      "5 Setting to 1768\n",
      "4 Setting to 122\n",
      "7 Setting to 105\n",
      "5 Setting to 1785\n"
     ]
    }
   ],
   "source": [
    "class MoreExamples:\n",
    "    def __init__(self):\n",
    "        self.f = 5\n",
    "        self.g = 6\n",
    "    \n",
    "    def return_const(self): # Constant value\n",
    "        return 5\n",
    "    \n",
    "    def get_f(self): # Return field\n",
    "        return self.f\n",
    "    \n",
    "    def get_g_plus_f(self): # Nested method call and addition\n",
    "        return self.g + self.get_f()\n",
    "    \n",
    "    def store_value_example(self): # Store in local variable\n",
    "        a = self.f\n",
    "        return a * self.g\n",
    "    \n",
    "    def call_func_with_param(self): # Call function with parameters\n",
    "        return self.func_with_params(\"Hello\",\"Welt\")\n",
    "    def func_with_params(self, value1, value2):\n",
    "        return value1 + \" \" + value2 + str(self.f)\n",
    "    \n",
    "    def if_example(self): # Processing a if\n",
    "        if self.f < 5:\n",
    "            return self.f\n",
    "        else:\n",
    "            return self.g\n",
    "    \n",
    "    def loop_example(self): # Processing a loop\n",
    "        k = self.f\n",
    "        sum = 0\n",
    "        for i in range(0,5):\n",
    "            sum += self.f\n",
    "        i = 0\n",
    "        while i < 5:\n",
    "            i += 1\n",
    "\n",
    "tmp = MoreExamples()\n",
    "print(tmp.f)\n",
    "print(\"First Experiment:\")\n",
    "aexpr.aexpr(lambda: tmp.f, globals()).on_change(lambda obs, old_val, new_val: print(\"1 Setting to \"+str(new_val)))\n",
    "tmp.f = 10\n",
    "tmp.g = 98\n",
    "\n",
    "print(\"Second Experiment:\")\n",
    "aexpr.aexpr(lambda: tmp.return_const(), globals()).on_change(lambda obs, old_val, new_val: print(\"2 Setting to \"+str(new_val)))\n",
    "tmp.f = 11\n",
    "tmp.g = 99\n",
    "\n",
    "print(\"Third Experiment:\")\n",
    "aexpr.aexpr(lambda: tmp.get_f(), globals()).on_change(lambda obs, old_val, new_val: print(\"3 Setting to \"+str(new_val)))\n",
    "tmp.f = 12\n",
    "tmp.g = 100\n",
    "\n",
    "print(\"Fourth Experiment:\")\n",
    "aexpr.aexpr(lambda: tmp.get_g_plus_f(), globals()).on_change(lambda obs, old_val, new_val: print(\"4 Setting to \"+str(new_val)))\n",
    "tmp.f = 13\n",
    "tmp.g = 101\n",
    "\n",
    "print(\"Fifth Experiment:\")\n",
    "aexpr.aexpr(lambda: tmp.store_value_example(), globals()).on_change(lambda obs, old_val, new_val: print(\"5 Setting to \"+str(new_val)))\n",
    "tmp.f = 14\n",
    "tmp.g = 102\n",
    "\n",
    "print(\"Sixth Experiment:\")\n",
    "aexpr.aexpr(lambda: tmp.call_func_with_param(), globals()).on_change(lambda obs, old_val, new_val: print(\"6 Setting to \"+str(new_val)))\n",
    "tmp.f = 15\n",
    "tmp.g = 103\n",
    "\n",
    "print(\"Seventh Experiment:\")\n",
    "aexpr.aexpr(lambda: tmp.if_example(), globals()).on_change(lambda obs, old_val, new_val: print(\"7 Setting to \"+str(new_val)))\n",
    "tmp.f = 16\n",
    "tmp.g = 104\n",
    "\n",
    "print(\"Eigth Experiment:\")\n",
    "aexpr.aexpr(lambda: tmp.loop_example(), globals()).on_change(lambda obs, old_val, new_val: print(\"8 Setting to \"+str(new_val)))\n",
    "tmp.f = 17\n",
    "tmp.g = 105"
   ]
  },
  {
   "cell_type": "markdown",
   "metadata": {},
   "source": [
    "**Please note:** Not all triggers are called because some values of the expressions does not change "
   ]
  },
  {
   "cell_type": "code",
   "execution_count": null,
   "metadata": {},
   "outputs": [],
   "source": []
  }
 ],
 "metadata": {
  "kernelspec": {
   "display_name": "Python 3",
   "language": "python",
   "name": "python3"
  },
  "language_info": {
   "codemirror_mode": {
    "name": "ipython",
    "version": 3
   },
   "file_extension": ".py",
   "mimetype": "text/x-python",
   "name": "python",
   "nbconvert_exporter": "python",
   "pygments_lexer": "ipython3",
   "version": "3.6.5"
  }
 },
 "nbformat": 4,
 "nbformat_minor": 2
}
